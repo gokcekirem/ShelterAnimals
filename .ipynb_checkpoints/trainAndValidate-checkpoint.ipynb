{
 "cells": [
  {
   "cell_type": "code",
   "execution_count": 1,
   "metadata": {},
   "outputs": [
    {
     "data": {
      "text/html": [
       "<div>\n",
       "<style scoped>\n",
       "    .dataframe tbody tr th:only-of-type {\n",
       "        vertical-align: middle;\n",
       "    }\n",
       "\n",
       "    .dataframe tbody tr th {\n",
       "        vertical-align: top;\n",
       "    }\n",
       "\n",
       "    .dataframe thead th {\n",
       "        text-align: right;\n",
       "    }\n",
       "</style>\n",
       "<table border=\"1\" class=\"dataframe\">\n",
       "  <thead>\n",
       "    <tr style=\"text-align: right;\">\n",
       "      <th></th>\n",
       "      <th>OutcomeType</th>\n",
       "      <th>isPurebred</th>\n",
       "      <th>AnimalType_Cat</th>\n",
       "      <th>AnimalType_Dog</th>\n",
       "      <th>SexuponOutcome_Female</th>\n",
       "      <th>SexuponOutcome_Male</th>\n",
       "      <th>SexuponOutcome_Unknown</th>\n",
       "      <th>AgeuponOutcome_Adolescent</th>\n",
       "      <th>AgeuponOutcome_Adult</th>\n",
       "      <th>AgeuponOutcome_Baby</th>\n",
       "      <th>...</th>\n",
       "      <th>Color_Silver Lynx Point</th>\n",
       "      <th>Color_Silver Tabby</th>\n",
       "      <th>Color_Tan</th>\n",
       "      <th>Color_Torbie</th>\n",
       "      <th>Color_Tortie</th>\n",
       "      <th>Color_Tortie Point</th>\n",
       "      <th>Color_Tricolor</th>\n",
       "      <th>Color_White</th>\n",
       "      <th>Color_Yellow</th>\n",
       "      <th>Color_Yellow Brindle</th>\n",
       "    </tr>\n",
       "  </thead>\n",
       "  <tbody>\n",
       "    <tr>\n",
       "      <th>0</th>\n",
       "      <td>1</td>\n",
       "      <td>0</td>\n",
       "      <td>0</td>\n",
       "      <td>1</td>\n",
       "      <td>0</td>\n",
       "      <td>1</td>\n",
       "      <td>0</td>\n",
       "      <td>1</td>\n",
       "      <td>0</td>\n",
       "      <td>0</td>\n",
       "      <td>...</td>\n",
       "      <td>0.0</td>\n",
       "      <td>0.0</td>\n",
       "      <td>0.0</td>\n",
       "      <td>0.0</td>\n",
       "      <td>0.0</td>\n",
       "      <td>0.0</td>\n",
       "      <td>0.0</td>\n",
       "      <td>1.0</td>\n",
       "      <td>0.0</td>\n",
       "      <td>0.0</td>\n",
       "    </tr>\n",
       "    <tr>\n",
       "      <th>1</th>\n",
       "      <td>3</td>\n",
       "      <td>0</td>\n",
       "      <td>1</td>\n",
       "      <td>0</td>\n",
       "      <td>1</td>\n",
       "      <td>0</td>\n",
       "      <td>0</td>\n",
       "      <td>1</td>\n",
       "      <td>0</td>\n",
       "      <td>0</td>\n",
       "      <td>...</td>\n",
       "      <td>0.0</td>\n",
       "      <td>0.0</td>\n",
       "      <td>0.0</td>\n",
       "      <td>0.0</td>\n",
       "      <td>0.0</td>\n",
       "      <td>0.0</td>\n",
       "      <td>0.0</td>\n",
       "      <td>0.0</td>\n",
       "      <td>0.0</td>\n",
       "      <td>0.0</td>\n",
       "    </tr>\n",
       "    <tr>\n",
       "      <th>2</th>\n",
       "      <td>0</td>\n",
       "      <td>0</td>\n",
       "      <td>0</td>\n",
       "      <td>1</td>\n",
       "      <td>0</td>\n",
       "      <td>1</td>\n",
       "      <td>0</td>\n",
       "      <td>1</td>\n",
       "      <td>0</td>\n",
       "      <td>0</td>\n",
       "      <td>...</td>\n",
       "      <td>0.0</td>\n",
       "      <td>0.0</td>\n",
       "      <td>0.0</td>\n",
       "      <td>0.0</td>\n",
       "      <td>0.0</td>\n",
       "      <td>0.0</td>\n",
       "      <td>0.0</td>\n",
       "      <td>1.0</td>\n",
       "      <td>0.0</td>\n",
       "      <td>0.0</td>\n",
       "    </tr>\n",
       "    <tr>\n",
       "      <th>3</th>\n",
       "      <td>2</td>\n",
       "      <td>0</td>\n",
       "      <td>1</td>\n",
       "      <td>0</td>\n",
       "      <td>0</td>\n",
       "      <td>1</td>\n",
       "      <td>0</td>\n",
       "      <td>0</td>\n",
       "      <td>0</td>\n",
       "      <td>1</td>\n",
       "      <td>...</td>\n",
       "      <td>0.0</td>\n",
       "      <td>0.0</td>\n",
       "      <td>0.0</td>\n",
       "      <td>0.0</td>\n",
       "      <td>0.0</td>\n",
       "      <td>0.0</td>\n",
       "      <td>0.0</td>\n",
       "      <td>0.0</td>\n",
       "      <td>0.0</td>\n",
       "      <td>0.0</td>\n",
       "    </tr>\n",
       "    <tr>\n",
       "      <th>4</th>\n",
       "      <td>2</td>\n",
       "      <td>0</td>\n",
       "      <td>0</td>\n",
       "      <td>1</td>\n",
       "      <td>0</td>\n",
       "      <td>1</td>\n",
       "      <td>0</td>\n",
       "      <td>1</td>\n",
       "      <td>0</td>\n",
       "      <td>0</td>\n",
       "      <td>...</td>\n",
       "      <td>0.0</td>\n",
       "      <td>0.0</td>\n",
       "      <td>1.0</td>\n",
       "      <td>0.0</td>\n",
       "      <td>0.0</td>\n",
       "      <td>0.0</td>\n",
       "      <td>0.0</td>\n",
       "      <td>0.0</td>\n",
       "      <td>0.0</td>\n",
       "      <td>0.0</td>\n",
       "    </tr>\n",
       "  </tbody>\n",
       "</table>\n",
       "<p>5 rows × 469 columns</p>\n",
       "</div>"
      ],
      "text/plain": [
       "   OutcomeType  isPurebred  AnimalType_Cat  AnimalType_Dog  \\\n",
       "0            1           0               0               1   \n",
       "1            3           0               1               0   \n",
       "2            0           0               0               1   \n",
       "3            2           0               1               0   \n",
       "4            2           0               0               1   \n",
       "\n",
       "   SexuponOutcome_Female  SexuponOutcome_Male  SexuponOutcome_Unknown  \\\n",
       "0                      0                    1                       0   \n",
       "1                      1                    0                       0   \n",
       "2                      0                    1                       0   \n",
       "3                      0                    1                       0   \n",
       "4                      0                    1                       0   \n",
       "\n",
       "   AgeuponOutcome_Adolescent  AgeuponOutcome_Adult  AgeuponOutcome_Baby  \\\n",
       "0                          1                     0                    0   \n",
       "1                          1                     0                    0   \n",
       "2                          1                     0                    0   \n",
       "3                          0                     0                    1   \n",
       "4                          1                     0                    0   \n",
       "\n",
       "           ...           Color_Silver Lynx Point  Color_Silver Tabby  \\\n",
       "0          ...                               0.0                 0.0   \n",
       "1          ...                               0.0                 0.0   \n",
       "2          ...                               0.0                 0.0   \n",
       "3          ...                               0.0                 0.0   \n",
       "4          ...                               0.0                 0.0   \n",
       "\n",
       "   Color_Tan  Color_Torbie  Color_Tortie  Color_Tortie Point  Color_Tricolor  \\\n",
       "0        0.0           0.0           0.0                 0.0             0.0   \n",
       "1        0.0           0.0           0.0                 0.0             0.0   \n",
       "2        0.0           0.0           0.0                 0.0             0.0   \n",
       "3        0.0           0.0           0.0                 0.0             0.0   \n",
       "4        1.0           0.0           0.0                 0.0             0.0   \n",
       "\n",
       "   Color_White  Color_Yellow  Color_Yellow Brindle  \n",
       "0          1.0           0.0                   0.0  \n",
       "1          0.0           0.0                   0.0  \n",
       "2          1.0           0.0                   0.0  \n",
       "3          0.0           0.0                   0.0  \n",
       "4          0.0           0.0                   0.0  \n",
       "\n",
       "[5 rows x 469 columns]"
      ]
     },
     "execution_count": 1,
     "metadata": {},
     "output_type": "execute_result"
    }
   ],
   "source": [
    "import matplotlib.pyplot as plt\n",
    "import pandas as pd\n",
    "import numpy as np\n",
    "from sklearn.preprocessing import LabelEncoder, OneHotEncoder\n",
    "from sklearn.preprocessing import Imputer\n",
    "from sklearn.model_selection import KFold\n",
    "from sklearn.model_selection import train_test_split\n",
    "from sklearn import linear_model\n",
    "\n",
    "DATA_FILE_NAME = \"ProcessedData.csv\"\n",
    "df = pd.read_csv(DATA_FILE_NAME)\n",
    "df.head()"
   ]
  },
  {
   "cell_type": "code",
   "execution_count": 2,
   "metadata": {},
   "outputs": [
    {
     "data": {
      "text/plain": [
       "21383"
      ]
     },
     "execution_count": 2,
     "metadata": {},
     "output_type": "execute_result"
    }
   ],
   "source": [
    "totalTrainingSet, totalTestSet = train_test_split(df,test_size=.2)\n",
    "len(totalTrainingSet)"
   ]
  },
  {
   "cell_type": "code",
   "execution_count": 3,
   "metadata": {},
   "outputs": [
    {
     "data": {
      "text/plain": [
       "5346"
      ]
     },
     "execution_count": 3,
     "metadata": {},
     "output_type": "execute_result"
    }
   ],
   "source": [
    "len(totalTestSet)"
   ]
  },
  {
   "cell_type": "code",
   "execution_count": 14,
   "metadata": {},
   "outputs": [
    {
     "data": {
      "text/plain": [
       "[0.6114098667290156,\n",
       " 0.6114098667290156,\n",
       " 0.6114098667290156,\n",
       " 0.6114098667290156,\n",
       " 0.6114098667290156]"
      ]
     },
     "execution_count": 14,
     "metadata": {},
     "output_type": "execute_result"
    }
   ],
   "source": [
    "fold = KFold(n_splits = 5)\n",
    "arr = []\n",
    "## KNN\n",
    "from sklearn.neighbors import KNeighborsClassifier  \n",
    "classifier = KNeighborsClassifier(n_neighbors=6, metric='jaccard')  \n",
    "\n",
    "for i in range(0,5):\n",
    "    split = next(fold.split(totalTrainingSet), None)\n",
    "    train = totalTrainingSet.iloc[split[0]]\n",
    "    validate = totalTrainingSet.iloc[split[1]]\n",
    "    \n",
    "    ##training/testing\n",
    "    \n",
    "    X_train=train.iloc[:,1:]\n",
    "    y_train=train.iloc[:,0]\n",
    "    \n",
    "    X_validate = validate.iloc[:,1:]\n",
    "    y_validate=validate.iloc[:,0]\n",
    "    \n",
    "    model = classifier.fit(X_train, y_train)\n",
    "    model.predict_proba(X_validate)\n",
    "    score=model.score(X_validate, y_validate)\n",
    "    ##end\n",
    "    \n",
    "    arr.append(score)\n",
    "arr"
   ]
  },
  {
   "cell_type": "code",
   "execution_count": 18,
   "metadata": {},
   "outputs": [],
   "source": [
    "class_names=['Adoption','Return to owner','Transfer','Euthanasia','Died']"
   ]
  },
  {
   "cell_type": "code",
   "execution_count": 19,
   "metadata": {},
   "outputs": [],
   "source": [
    "X_test=totalTestSet.iloc[:,1:]\n",
    "y_test=totalTestSet.iloc[:,0]\n",
    "y_pred = classifier.predict(X_test)  "
   ]
  },
  {
   "cell_type": "code",
   "execution_count": 20,
   "metadata": {},
   "outputs": [
    {
     "data": {
      "text/plain": [
       "0.6118593340815563"
      ]
     },
     "execution_count": 20,
     "metadata": {},
     "output_type": "execute_result"
    }
   ],
   "source": [
    "score=model.score(X_test, y_test)\n",
    "score"
   ]
  },
  {
   "cell_type": "code",
   "execution_count": 21,
   "metadata": {},
   "outputs": [
    {
     "name": "stdout",
     "output_type": "stream",
     "text": [
      "[[1792  212  161    8    0]\n",
      " [ 480  336  134   15    0]\n",
      " [ 549  166 1120   17    0]\n",
      " [  77   65  153   23    0]\n",
      " [   4    4   30    0    0]]\n",
      "              precision    recall  f1-score   support\n",
      "\n",
      "           0       0.62      0.82      0.71      2173\n",
      "           1       0.43      0.35      0.38       965\n",
      "           2       0.70      0.60      0.65      1852\n",
      "           3       0.37      0.07      0.12       318\n",
      "           4       0.00      0.00      0.00        38\n",
      "\n",
      "   micro avg       0.61      0.61      0.61      5346\n",
      "   macro avg       0.42      0.37      0.37      5346\n",
      "weighted avg       0.59      0.61      0.59      5346\n",
      "\n"
     ]
    },
    {
     "name": "stderr",
     "output_type": "stream",
     "text": [
      "C:\\Users\\Public\\Empty\\lib\\site-packages\\sklearn\\metrics\\classification.py:1143: UndefinedMetricWarning: Precision and F-score are ill-defined and being set to 0.0 in labels with no predicted samples.\n",
      "  'precision', 'predicted', average, warn_for)\n"
     ]
    }
   ],
   "source": [
    "from sklearn.metrics import classification_report, confusion_matrix  \n",
    "print(confusion_matrix(y_test, y_pred))  \n",
    "print(classification_report(y_test, y_pred))  "
   ]
  },
  {
   "cell_type": "code",
   "execution_count": 24,
   "metadata": {},
   "outputs": [
    {
     "data": {
      "image/png": "[encoded data removed]",
      "text/plain": [
       "<Figure size 288x288 with 2 Axes>"
      ]
     },
     "metadata": {
      "needs_background": "light"
     },
     "output_type": "display_data"
    },
    {
     "data": {
      "image/png": "[encoded data removed]",
      "text/plain": [
       "<Figure size 288x288 with 1 Axes>"
      ]
     },
     "metadata": {
      "needs_background": "light"
     },
     "output_type": "display_data"
    }
   ],
   "source": [
    "cm = confusion_matrix(y_test, y_pred)\n",
    "plt.matshow(cm, cmap=plt.cm.Blues_r)\n",
    "plt.title('Confusion matrix')\n",
    "plt.colorbar()\n",
    "plt.ylabel('True label')\n",
    "plt.xlabel('Predicted label')\n",
    "plt.matshow(cm, cmap=plt.cm.Blues_r)\n",
    "plt.show()"
   ]
  },
  {
   "cell_type": "code",
   "execution_count": 25,
   "metadata": {},
   "outputs": [
    {
     "data": {
      "image/png": "[encoded data removed]",
      "text/plain": [
       "<Figure size 504x360 with 2 Axes>"
      ]
     },
     "metadata": {
      "needs_background": "light"
     },
     "output_type": "display_data"
    }
   ],
   "source": [
    "classes = ['Adoption','Return_to_owner','Transfer','Euthanasia','Died']\n",
    "plt.rcParams[\"figure.figsize\"] = (7,5)\n",
    "normalize = True\n",
    "cm =confusion_matrix(y_test,y_pred)\n",
    "\n",
    "fig, ax = plt.subplots()\n",
    "im = ax.imshow(cm, interpolation='nearest', cmap=plt.cm.Blues)\n",
    "ax.figure.colorbar(im, ax=ax)\n",
    "# We want to show all ticks...\n",
    "ax.set(xticks=np.arange(cm.shape[1]),\n",
    "       yticks=np.arange(cm.shape[0]),\n",
    "       # ... and label them with the respective list entries\n",
    "       xticklabels=classes, yticklabels=classes,\n",
    "       title= \"Animal Outcomes\",\n",
    "       ylabel='True label',\n",
    "       xlabel='Predicted label')\n",
    "fmt = '.2f' if normalize else 'd'\n",
    "thresh = cm.max() / 2.\n",
    "for i in range(cm.shape[0]):\n",
    "    for j in range(cm.shape[1]):\n",
    "        ax.text(j, i, format(cm[i, j], fmt),\n",
    "                ha=\"center\", va=\"center\",\n",
    "                color=\"white\" if cm[i, j] > thresh else \"black\")\n",
    "fig.autofmt_xdate()\n",
    "plt.savefig('MLR_Confusion_Matrix')"
   ]
  },
  {
   "cell_type": "code",
   "execution_count": null,
   "metadata": {},
   "outputs": [],
   "source": []
  }
 ],
 "metadata": {
  "kernelspec": {
   "display_name": "Python 3",
   "language": "python",
   "name": "python3"
  },
  "language_info": {
   "codemirror_mode": {
    "name": "ipython",
    "version": 3
   },
   "file_extension": ".py",
   "mimetype": "text/x-python",
   "name": "python",
   "nbconvert_exporter": "python",
   "pygments_lexer": "ipython3",
   "version": "3.7.1"
  }
 },
 "nbformat": 4,
 "nbformat_minor": 2
}
